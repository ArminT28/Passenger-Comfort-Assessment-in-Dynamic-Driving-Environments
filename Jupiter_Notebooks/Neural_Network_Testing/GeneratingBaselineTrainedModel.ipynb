{
 "cells": [
  {
   "cell_type": "code",
   "id": "d999aa993d3b38ed",
   "metadata": {
    "ExecuteTime": {
     "end_time": "2024-06-09T15:35:38.401585Z",
     "start_time": "2024-06-09T15:35:38.396806Z"
    }
   },
   "source": [
    "import pandas as pd\n",
    "import numpy as np\n",
    "import matplotlib.pyplot as plt\n",
    "from sklearn.preprocessing import LabelEncoder\n",
    "from tensorflow.keras.layers import Dense\n",
    "from sklearn.metrics import confusion_matrix\n",
    "import seaborn as sns\n",
    "from keras import Input\n",
    "from sklearn.metrics import precision_recall_fscore_support\n",
    "from tensorflow.keras.models import Model\n",
    "from sklearn.model_selection import KFold\n",
    "import os\n",
    "import pickle"
   ],
   "execution_count": 24,
   "outputs": []
  },
  {
   "metadata": {
    "ExecuteTime": {
     "end_time": "2024-06-09T15:35:39.059902Z",
     "start_time": "2024-06-09T15:35:39.056559Z"
    }
   },
   "cell_type": "code",
   "source": [
    "file_path = '../../Data/Verified/BaseLineLabeledWithoutSelfLabeledValues/'\n",
    "file_name = 'RecordedDrivingData.csv'\n",
    "k = 5\n",
    "model_path_directory = '../../AIModels/BaselineModel/100Epochs/'"
   ],
   "id": "f4753d950209e210",
   "execution_count": 25,
   "outputs": []
  },
  {
   "cell_type": "code",
   "id": "initial_id",
   "metadata": {
    "collapsed": true,
    "ExecuteTime": {
     "end_time": "2024-06-09T15:35:40.226785Z",
     "start_time": "2024-06-09T15:35:39.759186Z"
    }
   },
   "source": [
    "recorded_driving_dataframe = pd.read_csv(file_path + file_name)\n",
    "\n",
    "recorded_driving_dataframe['Timestamp'] = pd.to_datetime(recorded_driving_dataframe['Timestamp'])\n",
    "\n",
    "primary_data = recorded_driving_dataframe[['Lateral acceleration','Longitudinal acceleration']]\n",
    "full_data = recorded_driving_dataframe\n",
    "data_labels = recorded_driving_dataframe['Label']\n",
    "data_labels = data_labels.loc[primary_data.index]"
   ],
   "execution_count": 26,
   "outputs": []
  },
  {
   "cell_type": "code",
   "id": "32a86dee4eedcfe6",
   "metadata": {
    "ExecuteTime": {
     "end_time": "2024-06-09T15:35:40.518479Z",
     "start_time": "2024-06-09T15:35:40.484062Z"
    }
   },
   "source": [
    "label_encoder = LabelEncoder()\n",
    "encoded_labels = label_encoder.fit_transform(data_labels)\n",
    "\n",
    "primary_data = primary_data.to_numpy()"
   ],
   "execution_count": 27,
   "outputs": []
  },
  {
   "cell_type": "code",
   "id": "e551c2233920f1fc",
   "metadata": {},
   "source": [
    "k_fold = KFold(n_splits=k, shuffle=True, random_state=1)\n",
    "\n",
    "accuracy_list = []\n",
    "precision_list = []\n",
    "recall_list = []\n",
    "f1_list = []\n",
    "specificity_list = []\n",
    "confusion_matrix_list = []\n",
    "step = 1\n",
    "\n",
    "for indexes_of_train_data, indexes_of_test_data in k_fold.split(primary_data):\n",
    "    print(f'Computing Fold number {step}')\n",
    "    step = step + 1\n",
    "    \n",
    "    features_train, features_test = primary_data[indexes_of_train_data], primary_data[indexes_of_test_data]\n",
    "    labels_train, labels_test = encoded_labels[indexes_of_train_data], encoded_labels[indexes_of_test_data]\n",
    "\n",
    "    input_layer = Input(shape=(2,))\n",
    "    dense_1 = Dense(16, activation='relu')(input_layer)\n",
    "    dense_2 = Dense(16, activation='relu')(dense_1)\n",
    "    dense_3 = Dense(4, activation='softmax')(dense_2)\n",
    "\n",
    "    model = Model(inputs=input_layer, outputs=dense_3, name=\"BaselineComfortLevel\")\n",
    "    model.compile(optimizer='adam',\n",
    "                  loss='sparse_categorical_crossentropy',\n",
    "                  metrics=['accuracy'])\n",
    "    \n",
    "    model.fit(features_train, labels_train, epochs=100, batch_size=32, validation_data=(features_test, labels_test))\n",
    "\n",
    "    tested_loss, tested_accuracy = model.evaluate(features_test, labels_test, verbose=0)\n",
    "    accuracy_list.append(tested_accuracy)\n",
    "    \n",
    "    test_predictions = model.predict(features_test, verbose=0)\n",
    "    test_labels_predictions = np.argmax(test_predictions, axis=1)\n",
    "\n",
    "    precision, recall, f1, _ = precision_recall_fscore_support(labels_test, test_labels_predictions, average=None)\n",
    "    precision_list.append(precision)\n",
    "    recall_list.append(recall)\n",
    "    f1_list.append(f1)\n",
    "\n",
    "    confusion_m = confusion_matrix(labels_test, test_labels_predictions)\n",
    "    confusion_matrix_list.append(confusion_m)\n",
    "    \n",
    "    specificity = []\n",
    "    for i in range(len(confusion_m)):\n",
    "        tn = np.sum(confusion_m) - (np.sum(confusion_m[:, i]) + np.sum(confusion_m[i, :]) - confusion_m[i, i])\n",
    "        fp = np.sum(confusion_m[:, i]) - confusion_m[i, i]\n",
    "        specificity.append(tn / (tn + fp))\n",
    "    specificity_list.append(specificity)"
   ],
   "execution_count": 28,
   "outputs": []
  },
  {
   "metadata": {
    "ExecuteTime": {
     "end_time": "2024-06-09T16:16:47.422676Z",
     "start_time": "2024-06-09T16:16:47.170281Z"
    }
   },
   "cell_type": "code",
   "source": [
    "average_accuracy = np.mean(accuracy_list)\n",
    "average_precision = np.mean(precision_list, axis=0)\n",
    "average_recall = np.mean(recall_list, axis=0)\n",
    "average_f1 = np.mean(f1_list, axis=0)\n",
    "average_specificity = np.mean(specificity_list, axis=0)\n",
    "\n",
    "confusion_matrix_sum = np.sum(confusion_matrix_list, axis=0)\n",
    "confusion_matrix_dataframe = pd.DataFrame(confusion_matrix_sum, index=label_encoder.classes_, columns=label_encoder.classes_)\n",
    "\n",
    "plotting_order = ['Excellent', 'Acceptable', 'So and So', 'Uncomfortable']\n",
    "\n",
    "confusion_matrix_dataframe = confusion_matrix_dataframe.loc[plotting_order, plotting_order]\n",
    "\n",
    "plt.figure(figsize=(10, 7))\n",
    "sns.heatmap(confusion_matrix_dataframe, annot=True, fmt='d', cmap='Blues')\n",
    "plt.ylabel('Actual')\n",
    "plt.xlabel('Predicted')\n",
    "plt.title('Aggregated Confusion Matrix')\n",
    "plt.show()"
   ],
   "id": "695010e4fa486bcd",
   "execution_count": 29,
   "outputs": []
  },
  {
   "metadata": {
    "ExecuteTime": {
     "end_time": "2024-06-09T16:16:47.595365Z",
     "start_time": "2024-06-09T16:16:47.423676Z"
    }
   },
   "cell_type": "code",
   "source": [
    "labels = label_encoder.inverse_transform([0, 1, 2, 3])\n",
    "scores_dataframe = pd.DataFrame({\n",
    "    'Label': labels,\n",
    "    'Precision (%)': (average_precision * 100).round(2),\n",
    "    'Recall (%)': (average_recall * 100).round(2),\n",
    "    'F1-Score (%)': (average_f1 * 100).round(2),\n",
    "    'Specificity (%)': (average_specificity * 100).round(2)\n",
    "})\n",
    "scores_dataframe['Label'] = pd.Categorical(scores_dataframe['Label'], categories=plotting_order, ordered=True)\n",
    "scores_dataframe = scores_dataframe.sort_values('Label')\n",
    "scores_dataframe = scores_dataframe.round(2)\n",
    "\n",
    "fig, ax = plt.subplots()\n",
    "ax.axis('tight')\n",
    "ax.axis('off')\n",
    "ax.table(cellText=scores_dataframe.values, colLabels=scores_dataframe.columns, cellLoc='center', loc='center', bbox=[0, 0, 1, 1])\n",
    "plt.title('Classification Report', pad=20)\n",
    "plt.show()"
   ],
   "id": "1dbb1fe67c4ff7c9",
   "execution_count": 30,
   "outputs": []
  },
  {
   "cell_type": "code",
   "id": "bd5c658a39336f91",
   "metadata": {
    "ExecuteTime": {
     "end_time": "2024-06-09T16:16:47.613664Z",
     "start_time": "2024-06-09T16:16:47.596359Z"
    }
   },
   "source": [
    "model.summary()"
   ],
   "execution_count": 31,
   "outputs": []
  },
  {
   "metadata": {
    "ExecuteTime": {
     "end_time": "2024-06-09T16:18:13.392301Z",
     "start_time": "2024-06-09T16:18:12.705089Z"
    }
   },
   "cell_type": "code",
   "source": [
    "model_json_config = model.to_json()\n",
    "\n",
    "os.makedirs(model_path_directory, exist_ok=True)\n",
    "\n",
    "with open(model_path_directory + 'DrivingComfortabilityPredictingModel.json', 'w') as json_file:\n",
    "    json_file.write(model_json_config)\n",
    "\n",
    "model.save_weights(model_path_directory + 'DrivingComfortabilityPredictingModel.weights.h5')\n",
    "\n",
    "with open(model_path_directory + 'DrivingComfortabilityPredictingModelHistory.pkl', 'wb') as f:\n",
    "    pickle.dump(model.history, f)"
   ],
   "id": "92e1bcfebb0f54fd",
   "execution_count": 32,
   "outputs": []
  }
 ],
 "metadata": {
  "kernelspec": {
   "display_name": "Python 3",
   "language": "python",
   "name": "python3"
  },
  "language_info": {
   "codemirror_mode": {
    "name": "ipython",
    "version": 2
   },
   "file_extension": ".py",
   "mimetype": "text/x-python",
   "name": "python",
   "nbconvert_exporter": "python",
   "pygments_lexer": "ipython2",
   "version": "2.7.6"
  }
 },
 "nbformat": 4,
 "nbformat_minor": 5
}
