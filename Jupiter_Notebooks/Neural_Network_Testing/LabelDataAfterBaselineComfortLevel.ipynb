{
 "cells": [
  {
   "cell_type": "code",
   "id": "initial_id",
   "metadata": {
    "collapsed": true,
    "ExecuteTime": {
     "end_time": "2024-05-17T19:28:33.036173Z",
     "start_time": "2024-05-17T19:28:33.032404Z"
    }
   },
   "source": [
    "import pandas as pd\n",
    "import matplotlib.pyplot as plt"
   ],
   "execution_count": 21,
   "outputs": []
  },
  {
   "metadata": {
    "ExecuteTime": {
     "end_time": "2024-05-17T19:28:34.214299Z",
     "start_time": "2024-05-17T19:28:33.758719Z"
    }
   },
   "cell_type": "code",
   "source": [
    "recorded_driving_data = pd.read_csv('....')\n",
    "recorded_driving_data['Timestamp'] = pd.to_datetime(recorded_driving_data['Timestamp'])"
   ],
   "id": "97f7639ca3467361",
   "execution_count": 22,
   "outputs": []
  },
  {
   "metadata": {
    "ExecuteTime": {
     "end_time": "2024-05-17T19:28:35.063997Z",
     "start_time": "2024-05-17T19:28:35.052517Z"
    }
   },
   "cell_type": "code",
   "source": "recorded_driving_data.info()",
   "id": "57795e588cad2c4d",
   "execution_count": 23,
   "outputs": []
  },
  {
   "metadata": {
    "ExecuteTime": {
     "end_time": "2024-05-17T19:28:35.828696Z",
     "start_time": "2024-05-17T19:28:35.821156Z"
    }
   },
   "cell_type": "code",
   "source": [
    "excellent_rhombus = {\n",
    "    \"positive_point_on_X_axis\": (0.05,0),\n",
    "    \"negative_point_on_X_axis\": (-0.05,0),\n",
    "    \"positive_point_on_Y_axis\": (0,0.28),\n",
    "    \"negative_point_on_Y_axis\": (0,-0.28)\n",
    "}\n",
    "\n",
    "acceptable_rhombus = {\n",
    "    \"positive_point_on_X_axis\": (0.98,0),\n",
    "    \"negative_point_on_X_axis\": (-0.98,0),\n",
    "    \"positive_point_on_Y_axis\": (0,1.23),\n",
    "    \"negative_point_on_Y_axis\": (0,-1.23)\n",
    "}\n",
    "\n",
    "so_and_so_rhombus = {\n",
    "    \"positive_point_on_X_axis\": (1.87,0),\n",
    "    \"negative_point_on_X_axis\": (-1.87,0),\n",
    "    \"positive_point_on_Y_axis\": (0,2.12),\n",
    "    \"negative_point_on_Y_axis\": (0,-2.12)\n",
    "}\n",
    "\n",
    "def compute_rhombus(rhombus):\n",
    "    rhombus_half_diagonal1_length = abs(rhombus[\"positive_point_on_X_axis\"][0])\n",
    "    rhombus_half_diagonal2_length = abs(rhombus[\"positive_point_on_Y_axis\"][1])\n",
    "    rhombus['half_diagonal1_length'] = rhombus_half_diagonal1_length\n",
    "    rhombus['half_diagonal2_length'] = rhombus_half_diagonal2_length\n",
    "    return rhombus\n",
    "\n",
    "excellent_rhombus = compute_rhombus(excellent_rhombus)\n",
    "acceptable_rhombus = compute_rhombus(acceptable_rhombus)\n",
    "so_and_so_rhombus = compute_rhombus(so_and_so_rhombus)\n",
    "\n",
    "def point_inside_or_on_centered_rhombus(point_x, point_y, rhombus_half_diagonal1_length, rhombus_half_diagonal2_length):\n",
    "    return abs(point_x / rhombus_half_diagonal1_length) + abs(point_y / rhombus_half_diagonal2_length) <= 1\n",
    "\n",
    "\n",
    "def point_outside_centered_rhombus(point_x, point_y, rhombus_half_diagonal1_length, rhombus_half_diagonal2_length):\n",
    "    return abs(point_x / rhombus_half_diagonal1_length) + abs(point_y / rhombus_half_diagonal2_length) > 1\n",
    "\n",
    "def remove_points_inside_and_outside_rhombus_boundaries(inside_rhombus,outside_rhombus,label,dataframe,dataframe_column_name,dataframe_x_axis_column_name,dataframe_y_axis_column_name):\n",
    "    for index,row in dataframe.iterrows():\n",
    "        if row[dataframe_column_name] == label:\n",
    "            point_x = row[dataframe_x_axis_column_name]\n",
    "            point_y = row[dataframe_y_axis_column_name]\n",
    "            if (point_inside_or_on_centered_rhombus(point_x,\n",
    "                                                    point_y,\n",
    "                                                    outside_rhombus['half_diagonal1_length'],\n",
    "                                                    outside_rhombus['half_diagonal2_length'])\n",
    "                    == True\n",
    "                    and\n",
    "                    point_outside_centered_rhombus(point_x,\n",
    "                                                   point_y,\n",
    "                                                   inside_rhombus['half_diagonal1_length'],\n",
    "                                                   inside_rhombus['half_diagonal2_length'])\n",
    "                    == True):\n",
    "                pass\n",
    "            else:\n",
    "                dataframe = dataframe.drop(index)\n",
    "    return dataframe\n",
    "\n",
    "def classify_points_inside_rhombus_boundaries(rhombus,dataframe,dataframe_x_axis_column_name,dataframe_y_axis_column_name,label):\n",
    "    for index,row in dataframe.iterrows():\n",
    "        point_x = row[dataframe_x_axis_column_name]\n",
    "        point_y = row[dataframe_y_axis_column_name]\n",
    "        if (point_inside_or_on_centered_rhombus(point_x,\n",
    "                                                point_y,\n",
    "                                                rhombus['half_diagonal1_length'],\n",
    "                                                rhombus['half_diagonal2_length'])\n",
    "                == True):\n",
    "            dataframe.at[index,'Label'] = label\n",
    "    return dataframe"
   ],
   "id": "f7777e37900e8db9",
   "execution_count": 24,
   "outputs": []
  },
  {
   "metadata": {
    "ExecuteTime": {
     "end_time": "2024-05-17T19:29:08.282541Z",
     "start_time": "2024-05-17T19:28:36.663355Z"
    }
   },
   "cell_type": "code",
   "source": [
    "recorded_driving_data['Label'] = str('Uncomfortable')\n",
    "\n",
    "recorded_driving_data = classify_points_inside_rhombus_boundaries(so_and_so_rhombus,recorded_driving_data,'Lateral acceleration','Longitudinal acceleration','So and So')\n",
    "\n",
    "recorded_driving_data = classify_points_inside_rhombus_boundaries(acceptable_rhombus,recorded_driving_data,'Lateral acceleration','Longitudinal acceleration','Acceptable')\n",
    "\n",
    "recorded_driving_data = classify_points_inside_rhombus_boundaries(excellent_rhombus,recorded_driving_data,'Lateral acceleration','Longitudinal acceleration','Excellent')"
   ],
   "id": "8384a4593a00afa9",
   "execution_count": 25,
   "outputs": []
  },
  {
   "metadata": {},
   "cell_type": "markdown",
   "source": "Plot of the labeled Data:",
   "id": "8dbb3de9cf47df4e"
  },
  {
   "metadata": {
    "ExecuteTime": {
     "end_time": "2024-05-17T19:29:16.649758Z",
     "start_time": "2024-05-17T19:29:11.956397Z"
    }
   },
   "cell_type": "code",
   "source": [
    "color_map = {\n",
    "    'Excellent': 'green',\n",
    "    'Acceptable': 'yellow',\n",
    "    'So and So': 'orange',\n",
    "    'Uncomfortable': 'red',\n",
    "}\n",
    "\n",
    "axis = recorded_driving_data.plot(kind='scatter', x='Lateral acceleration', y='Longitudinal acceleration')\n",
    "colors = recorded_driving_data['Label'].map(color_map)\n",
    "axis.scatter(recorded_driving_data['Lateral acceleration'], recorded_driving_data['Longitudinal acceleration'], color=colors)\n",
    "\n",
    "max_lateral = recorded_driving_data['Lateral acceleration'].max()\n",
    "max_longitudinal = recorded_driving_data['Longitudinal acceleration'].max()\n",
    "maximum_axis_value = max_lateral if max_lateral > max_longitudinal else max_longitudinal\n",
    "\n",
    "axis.set_xlim(-maximum_axis_value-0.5,maximum_axis_value+0.5)\n",
    "axis.set_ylim(-maximum_axis_value-0.5,maximum_axis_value+0.5)\n",
    "\n",
    "plt.grid(True)\n",
    "plt.xlabel('Lateral Acceleration (m/s^2)')\n",
    "plt.ylabel('Longitudinal Acceleration (m/s^2)')\n",
    "plt.title('Baseline Labeled Acceleration Data')\n",
    "plt.show()"
   ],
   "id": "e406e59eeed38d0c",
   "execution_count": 26,
   "outputs": []
  },
  {
   "metadata": {
    "ExecuteTime": {
     "end_time": "2024-05-17T19:29:39.387589Z",
     "start_time": "2024-05-17T19:29:38.082178Z"
    }
   },
   "cell_type": "code",
   "source": "recorded_driving_data.to_csv('../../Data/Verified/BaseLineLabeledWithoutSelfLabeledValues/RecordedDrivingData.csv',index=False)",
   "id": "d3ac0765838e06d9",
   "execution_count": 27,
   "outputs": []
  }
 ],
 "metadata": {
  "kernelspec": {
   "display_name": "Python 3",
   "language": "python",
   "name": "python3"
  },
  "language_info": {
   "codemirror_mode": {
    "name": "ipython",
    "version": 2
   },
   "file_extension": ".py",
   "mimetype": "text/x-python",
   "name": "python",
   "nbconvert_exporter": "python",
   "pygments_lexer": "ipython2",
   "version": "2.7.6"
  }
 },
 "nbformat": 4,
 "nbformat_minor": 5
}
