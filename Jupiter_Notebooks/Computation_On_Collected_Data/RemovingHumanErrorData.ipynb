{
 "cells": [
  {
   "cell_type": "code",
   "id": "initial_id",
   "metadata": {
    "collapsed": true,
    "ExecuteTime": {
     "end_time": "2024-06-03T07:49:20.390477Z",
     "start_time": "2024-06-03T07:49:20.387430Z"
    }
   },
   "source": "import pandas as pd",
   "execution_count": 171,
   "outputs": []
  },
  {
   "metadata": {
    "ExecuteTime": {
     "end_time": "2024-06-03T07:49:20.411820Z",
     "start_time": "2024-06-03T07:49:20.407435Z"
    }
   },
   "cell_type": "code",
   "source": [
    "file_name = \"....\"\n",
    "file_path = \"../../Data/CSV/\"\n",
    "human_error_scaling_factor = 0.5\n",
    "output_file_name = '.....'"
   ],
   "id": "6d5650d7ed5a227b",
   "execution_count": 172,
   "outputs": []
  },
  {
   "metadata": {
    "ExecuteTime": {
     "end_time": "2024-06-03T07:49:20.464866Z",
     "start_time": "2024-06-03T07:49:20.460694Z"
    }
   },
   "cell_type": "code",
   "source": [
    "def point_inside_or_on_centered_rhombus(point_x,point_y,rhombus_half_diagonal1_length,rhombus_half_diagonal2_length):\n",
    "    return abs(point_x/rhombus_half_diagonal1_length) + abs(point_y/rhombus_half_diagonal2_length) <= 1\n",
    "\n",
    "def point_outside_centered_rhombus(point_x,point_y,rhombus_half_diagonal1_length,rhombus_half_diagonal2_length):\n",
    "    return abs(point_x/rhombus_half_diagonal1_length) + abs(point_y/rhombus_half_diagonal2_length) > 1"
   ],
   "id": "3ad176c82b674119",
   "execution_count": 173,
   "outputs": []
  },
  {
   "metadata": {
    "ExecuteTime": {
     "end_time": "2024-06-03T07:49:20.487290Z",
     "start_time": "2024-06-03T07:49:20.467863Z"
    }
   },
   "cell_type": "code",
   "source": [
    "excellent_rhombus = {\n",
    "    \"positive_point_on_X_axis\": (0.05,0),\n",
    "    \"negative_point_on_X_axis\": (-0.05,0),\n",
    "    \"positive_point_on_Y_axis\": (0,0.28),\n",
    "    \"negative_point_on_Y_axis\": (0,-0.28)\n",
    "}\n",
    "max_excellent_rhombus ={\n",
    "    \"positive_point_on_X_axis\": (excellent_rhombus['positive_point_on_X_axis'][0] * (1 + human_error_scaling_factor),\n",
    "                                 excellent_rhombus['positive_point_on_X_axis'][1] * (1 + human_error_scaling_factor)),\n",
    "    \"negative_point_on_X_axis\": (excellent_rhombus['negative_point_on_X_axis'][0] * (1 + human_error_scaling_factor),\n",
    "                                 excellent_rhombus['negative_point_on_X_axis'][1] * (1 + human_error_scaling_factor)),\n",
    "    \"positive_point_on_Y_axis\": (excellent_rhombus['positive_point_on_Y_axis'][0] * (1 + human_error_scaling_factor),\n",
    "                                 excellent_rhombus['positive_point_on_Y_axis'][1] * (1 + human_error_scaling_factor)),\n",
    "    \"negative_point_on_Y_axis\": (excellent_rhombus['negative_point_on_Y_axis'][0] * (1 + human_error_scaling_factor),\n",
    "                                 excellent_rhombus['negative_point_on_Y_axis'][1] * (1 + human_error_scaling_factor))\n",
    "}\n",
    "\n",
    "acceptable_rhombus = {\n",
    "    \"positive_point_on_X_axis\": (0.98,0),\n",
    "    \"negative_point_on_X_axis\": (-0.98,0),\n",
    "    \"positive_point_on_Y_axis\": (0,1.23),\n",
    "    \"negative_point_on_Y_axis\": (0,-1.23)\n",
    "}\n",
    "min_acceptable_rhombus = {\n",
    "    \"positive_point_on_X_axis\": (excellent_rhombus['positive_point_on_X_axis'][0] * (1 - human_error_scaling_factor),\n",
    "                                 excellent_rhombus['positive_point_on_X_axis'][1] * (1 - human_error_scaling_factor)),\n",
    "    \"negative_point_on_X_axis\": (excellent_rhombus['negative_point_on_X_axis'][0] * (1 - human_error_scaling_factor),\n",
    "                                 excellent_rhombus['negative_point_on_X_axis'][1] * (1 - human_error_scaling_factor)),\n",
    "    \"positive_point_on_Y_axis\": (excellent_rhombus['positive_point_on_Y_axis'][0] * (1 - human_error_scaling_factor),\n",
    "                                 excellent_rhombus['positive_point_on_Y_axis'][1] * (1 - human_error_scaling_factor)),\n",
    "    \"negative_point_on_Y_axis\": (excellent_rhombus['negative_point_on_Y_axis'][0] * (1 - human_error_scaling_factor),\n",
    "                                 excellent_rhombus['negative_point_on_Y_axis'][1] * (1 - human_error_scaling_factor))\n",
    "}\n",
    "max_acceptable_rhombus = {\n",
    "    \"positive_point_on_X_axis\": (acceptable_rhombus['positive_point_on_X_axis'][0] * (1 + human_error_scaling_factor),\n",
    "                                 acceptable_rhombus['positive_point_on_X_axis'][1] * (1 + human_error_scaling_factor)),\n",
    "    \"negative_point_on_X_axis\": (acceptable_rhombus['negative_point_on_X_axis'][0] * (1 + human_error_scaling_factor),\n",
    "                                 acceptable_rhombus['negative_point_on_X_axis'][1] * (1 + human_error_scaling_factor)),\n",
    "    \"positive_point_on_Y_axis\": (acceptable_rhombus['positive_point_on_Y_axis'][0] * (1 + human_error_scaling_factor),\n",
    "                                 acceptable_rhombus['positive_point_on_Y_axis'][1] * (1 + human_error_scaling_factor)),\n",
    "    \"negative_point_on_Y_axis\": (acceptable_rhombus['negative_point_on_Y_axis'][0] * (1 + human_error_scaling_factor),\n",
    "                                 acceptable_rhombus['negative_point_on_Y_axis'][1] * (1 + human_error_scaling_factor))\n",
    "}\n",
    "\n",
    "so_and_so_rhombus = {\n",
    "    \"positive_point_on_X_axis\": (1.87,0),\n",
    "    \"negative_point_on_X_axis\": (-1.87,0),\n",
    "    \"positive_point_on_Y_axis\": (0,2.12),\n",
    "    \"negative_point_on_Y_axis\": (0,-2.12)\n",
    "}\n",
    "min_so_and_so_rhombus = {\n",
    "    \"positive_point_on_X_axis\": (acceptable_rhombus['positive_point_on_X_axis'][0] * (1 - human_error_scaling_factor),\n",
    "                                 acceptable_rhombus['positive_point_on_X_axis'][1] * (1 - human_error_scaling_factor)),\n",
    "    \"negative_point_on_X_axis\": (acceptable_rhombus['negative_point_on_X_axis'][0] * (1 - human_error_scaling_factor),\n",
    "                                 acceptable_rhombus['negative_point_on_X_axis'][1] * (1 - human_error_scaling_factor)),\n",
    "    \"positive_point_on_Y_axis\": (acceptable_rhombus['positive_point_on_Y_axis'][0] * (1 - human_error_scaling_factor),\n",
    "                                 acceptable_rhombus['positive_point_on_Y_axis'][1] * (1 - human_error_scaling_factor)),\n",
    "    \"negative_point_on_Y_axis\": (acceptable_rhombus['negative_point_on_Y_axis'][0] * (1 - human_error_scaling_factor),\n",
    "                                 acceptable_rhombus['negative_point_on_Y_axis'][1] * (1 - human_error_scaling_factor))\n",
    "}\n",
    "max_so_and_so_rhombus = {\n",
    "    \"positive_point_on_X_axis\": (so_and_so_rhombus['positive_point_on_X_axis'][0] * (1 + human_error_scaling_factor),\n",
    "                                 so_and_so_rhombus['positive_point_on_X_axis'][1] * (1 + human_error_scaling_factor)),\n",
    "    \"negative_point_on_X_axis\": (so_and_so_rhombus['negative_point_on_X_axis'][0] * (1 + human_error_scaling_factor),\n",
    "                                 so_and_so_rhombus['negative_point_on_X_axis'][1] * (1 + human_error_scaling_factor)),\n",
    "    \"positive_point_on_Y_axis\": (so_and_so_rhombus['positive_point_on_Y_axis'][0] * (1 + human_error_scaling_factor),\n",
    "                                 so_and_so_rhombus['positive_point_on_Y_axis'][1] * (1 + human_error_scaling_factor)),\n",
    "    \"negative_point_on_Y_axis\": (so_and_so_rhombus['negative_point_on_Y_axis'][0] * (1 + human_error_scaling_factor),\n",
    "                                 so_and_so_rhombus['negative_point_on_Y_axis'][1] * (1 + human_error_scaling_factor))\n",
    "\n",
    "}\n",
    "\n",
    "min_uncomfortable_rhombus = {\n",
    "    \"positive_point_on_X_axis\": (so_and_so_rhombus['positive_point_on_X_axis'][0] * (1 - human_error_scaling_factor),\n",
    "                                 so_and_so_rhombus['positive_point_on_X_axis'][1] * (1 - human_error_scaling_factor)),\n",
    "    \"negative_point_on_X_axis\": (so_and_so_rhombus['negative_point_on_X_axis'][0] * (1 - human_error_scaling_factor),\n",
    "                                 so_and_so_rhombus['negative_point_on_X_axis'][1] * (1 - human_error_scaling_factor)),\n",
    "    \"positive_point_on_Y_axis\": (so_and_so_rhombus['positive_point_on_Y_axis'][0] * (1 - human_error_scaling_factor),\n",
    "                                 so_and_so_rhombus['positive_point_on_Y_axis'][1] * (1 - human_error_scaling_factor)),\n",
    "    \"negative_point_on_Y_axis\": (so_and_so_rhombus['negative_point_on_Y_axis'][0] * (1 - human_error_scaling_factor),\n",
    "                                 so_and_so_rhombus['negative_point_on_Y_axis'][1] * (1 - human_error_scaling_factor))\n",
    "}"
   ],
   "id": "6cfc379cde8a65d7",
   "execution_count": 174,
   "outputs": []
  },
  {
   "metadata": {
    "ExecuteTime": {
     "end_time": "2024-06-03T07:49:20.497116Z",
     "start_time": "2024-06-03T07:49:20.491287Z"
    }
   },
   "cell_type": "code",
   "source": [
    "def compute_rhombus(rhombus):\n",
    "    rhombus_half_diagonal1_length = abs(rhombus[\"positive_point_on_X_axis\"][0])\n",
    "    rhombus_half_diagonal2_length = abs(rhombus[\"positive_point_on_Y_axis\"][1])\n",
    "    rhombus['half_diagonal1_length'] = rhombus_half_diagonal1_length\n",
    "    rhombus['half_diagonal2_length'] = rhombus_half_diagonal2_length\n",
    "    return rhombus"
   ],
   "id": "e7580c42117ddb38",
   "execution_count": 175,
   "outputs": []
  },
  {
   "metadata": {
    "ExecuteTime": {
     "end_time": "2024-06-03T07:49:20.508690Z",
     "start_time": "2024-06-03T07:49:20.502108Z"
    }
   },
   "cell_type": "code",
   "source": [
    "excellent_rhombus = compute_rhombus(excellent_rhombus)\n",
    "max_excellent_rhombus = compute_rhombus(max_excellent_rhombus)\n",
    "acceptable_rhombus = compute_rhombus(acceptable_rhombus)\n",
    "min_acceptable_rhombus = compute_rhombus(min_acceptable_rhombus)\n",
    "max_acceptable_rhombus = compute_rhombus(max_acceptable_rhombus)\n",
    "so_and_so_rhombus = compute_rhombus(so_and_so_rhombus)\n",
    "min_so_and_so_rhombus = compute_rhombus(min_so_and_so_rhombus)\n",
    "max_so_and_so_rhombus = compute_rhombus(max_so_and_so_rhombus)\n",
    "min_uncomfortable_rhombus = compute_rhombus(min_uncomfortable_rhombus)"
   ],
   "id": "2002328612c3f12f",
   "execution_count": 176,
   "outputs": []
  },
  {
   "metadata": {
    "ExecuteTime": {
     "end_time": "2024-06-03T07:49:20.529287Z",
     "start_time": "2024-06-03T07:49:20.521661Z"
    }
   },
   "cell_type": "code",
   "source": [
    "def remove_points_inside_and_outside_rhombus_boundaries(inside_rhombus,outside_rhombus,label,dataframe,dataframe_column_name,dataframe_x_axis_column_name,dataframe_y_axis_column_name):\n",
    "    for index,row in dataframe.iterrows():\n",
    "        if row[dataframe_column_name] == label:\n",
    "            point_x = row[dataframe_x_axis_column_name]\n",
    "            point_y = row[dataframe_y_axis_column_name]\n",
    "            if (point_inside_or_on_centered_rhombus(point_x, \n",
    "                                                    point_y,\n",
    "                                                    outside_rhombus['half_diagonal1_length'],\n",
    "                                                    outside_rhombus['half_diagonal2_length']) \n",
    "                == True \n",
    "                and \n",
    "                point_outside_centered_rhombus(point_x, \n",
    "                                               point_y,\n",
    "                                               inside_rhombus['half_diagonal1_length'],\n",
    "                                               inside_rhombus['half_diagonal2_length']) \n",
    "                == True):\n",
    "                pass\n",
    "            else:\n",
    "                dataframe = dataframe.drop(index)\n",
    "    return dataframe\n",
    "\n",
    "def remove_points_inside_rhombus_boundaries(rhombus,label,dataframe,dataframe_column_name,dataframe_x_axis_column_name,dataframe_y_axis_column_name):\n",
    "    for index,row in dataframe.iterrows():\n",
    "        if row[dataframe_column_name] == label:\n",
    "            point_x = row[dataframe_x_axis_column_name]\n",
    "            point_y = row[dataframe_y_axis_column_name]\n",
    "            if (point_inside_or_on_centered_rhombus(point_x,\n",
    "                                                    point_y,\n",
    "                                                    rhombus['half_diagonal1_length'],\n",
    "                                                    rhombus['half_diagonal2_length'])\n",
    "                    == True):\n",
    "                dataframe = dataframe.drop(index)\n",
    "                \n",
    "    return dataframe\n",
    "\n",
    "def remove_points_outside_rhombus_boundaries(rhombus,label,dataframe,dataframe_column_name,dataframe_x_axis_column_name,dataframe_y_axis_column_name):\n",
    "    for index,row in dataframe.iterrows():\n",
    "        if row[dataframe_column_name] == label:\n",
    "            point_x = row[dataframe_x_axis_column_name]\n",
    "            point_y = row[dataframe_y_axis_column_name]\n",
    "            if (point_outside_centered_rhombus(point_x,\n",
    "                                               point_y,\n",
    "                                               rhombus['half_diagonal1_length'],\n",
    "                                               rhombus['half_diagonal2_length'])\n",
    "                    == True):\n",
    "                dataframe = dataframe.drop(index)\n",
    "                \n",
    "    return dataframe"
   ],
   "id": "f403ffa160426493",
   "execution_count": 177,
   "outputs": []
  },
  {
   "metadata": {
    "ExecuteTime": {
     "end_time": "2024-06-03T07:49:20.591050Z",
     "start_time": "2024-06-03T07:49:20.556220Z"
    }
   },
   "cell_type": "code",
   "source": [
    "driving_dataframe = pd.read_csv(file_path+file_name)\n",
    "\n",
    "driving_dataframe['timestamp'] = pd.to_datetime(driving_dataframe['timestamp'])"
   ],
   "id": "8e56e8fce874b171",
   "execution_count": 178,
   "outputs": []
  },
  {
   "metadata": {
    "ExecuteTime": {
     "end_time": "2024-06-03T07:49:20.601765Z",
     "start_time": "2024-06-03T07:49:20.593052Z"
    }
   },
   "cell_type": "code",
   "source": [
    "driving_dataframe = driving_dataframe[driving_dataframe['ComfortabilityLabel'] != 'Not paying attention']\n",
    "driving_dataframe = driving_dataframe[driving_dataframe['Slip control system sensor-Steering angle sensor'] != 'Malfunction']\n",
    "driving_dataframe['Slip control system sensor-Steering angle sensor'] = driving_dataframe['Slip control system sensor-Steering angle sensor'].astype(float)"
   ],
   "id": "873c3b494c51654b",
   "execution_count": 179,
   "outputs": []
  },
  {
   "metadata": {
    "ExecuteTime": {
     "end_time": "2024-06-03T07:49:24.298927Z",
     "start_time": "2024-06-03T07:49:20.604763Z"
    }
   },
   "cell_type": "code",
   "source": [
    "driving_dataframe = remove_points_outside_rhombus_boundaries(max_excellent_rhombus,\n",
    "                                                             'Excellent',\n",
    "                                                             driving_dataframe,\n",
    "                                                             'ComfortabilityLabel',\n",
    "                                                             'Slip control system sensor-Lateral acceleration sensor 1',\n",
    "                                                             'Slip control system sensor-Longitude Acceleration Sensor')\n",
    "driving_dataframe = remove_points_inside_and_outside_rhombus_boundaries(min_acceptable_rhombus,\n",
    "                                                                         max_acceptable_rhombus,\n",
    "                                                                         'Acceptable',\n",
    "                                                                         driving_dataframe,\n",
    "                                                                         'ComfortabilityLabel',\n",
    "                                                                         'Slip control system sensor-Lateral acceleration sensor 1',\n",
    "                                                                         'Slip control system sensor-Longitude Acceleration Sensor')\n",
    "driving_dataframe = remove_points_inside_and_outside_rhombus_boundaries(min_so_and_so_rhombus,\n",
    "                                                                         max_so_and_so_rhombus,\n",
    "                                                                         'So and So',\n",
    "                                                                         driving_dataframe,\n",
    "                                                                         'ComfortabilityLabel',\n",
    "                                                                         'Slip control system sensor-Lateral acceleration sensor 1',\n",
    "                                                                         'Slip control system sensor-Longitude Acceleration Sensor')\n",
    "driving_dataframe = remove_points_inside_rhombus_boundaries(min_uncomfortable_rhombus,\n",
    "                                                            'Uncomfortable',\n",
    "                                                            driving_dataframe,\n",
    "                                                            'ComfortabilityLabel',\n",
    "                                                            'Slip control system sensor-Lateral acceleration sensor 1',\n",
    "                                                            'Slip control system sensor-Longitude Acceleration Sensor')"
   ],
   "id": "bf7ea50564cf93a8",
   "execution_count": 180,
   "outputs": []
  },
  {
   "metadata": {
    "ExecuteTime": {
     "end_time": "2024-06-03T07:49:24.352058Z",
     "start_time": "2024-06-03T07:49:24.302920Z"
    }
   },
   "cell_type": "code",
   "source": [
    "rla_dataframe = driving_dataframe\n",
    "rla_dataframe = rla_dataframe[rla_dataframe['Slip control system sensor-Steering angle sensor'] != 'Malfunction']\n",
    "\n",
    "if 'ComfortabilityLabel' in rla_dataframe.columns:\n",
    "    rla_dataframe = rla_dataframe[rla_dataframe['ComfortabilityLabel'].notna()]\n",
    "\n",
    "rla_dataframe['Timestamp'] = rla_dataframe['timestamp']\n",
    "rla_dataframe.drop(columns=['timestamp'], inplace=True)\n",
    "\n",
    "rla_dataframe['Longitudinal acceleration'] = rla_dataframe['Slip control system sensor-Longitude Acceleration Sensor']\n",
    "rla_dataframe.drop(columns=['Slip control system sensor-Longitude Acceleration Sensor'], inplace=True)\n",
    "\n",
    "rla_dataframe['Lateral acceleration'] = rla_dataframe['Slip control system sensor-Lateral acceleration sensor 1']\n",
    "rla_dataframe.drop(columns=['Slip control system sensor-Lateral acceleration sensor 1'], inplace=True)\n",
    "\n",
    "rla_dataframe['Steering angle'] = rla_dataframe['Slip control system sensor-Steering angle sensor']\n",
    "rla_dataframe.drop(columns=['Slip control system sensor-Steering angle sensor'], inplace=True)\n",
    "\n",
    "rla_dataframe['Rotation rate of steering angle'] = rla_dataframe['Slip control system sensor-Rotation rate sensor 1: Z-axis']\n",
    "rla_dataframe.drop(columns=['Slip control system sensor-Rotation rate sensor 1: Z-axis'], inplace=True)\n",
    "\n",
    "rla_dataframe['Speed'] = rla_dataframe['Left front ABS wheel speed sensor-Front left wheel speed']\n",
    "rla_dataframe.drop(columns=['Left front ABS wheel speed sensor-Front left wheel speed'], inplace=True)\n",
    "\n",
    "rla_dataframe['Label'] = rla_dataframe['ComfortabilityLabel']\n",
    "rla_dataframe.drop(columns=['ComfortabilityLabel'], inplace=True)\n",
    "\n",
    "rla_dataframe.drop(columns=['marker',\n",
    "                            'Right front ABS wheel speed sensor-Wheel speed: right front',\n",
    "                            'Left rear ABS wheel speed sensor-Left rear wheel speed',\n",
    "                            'Right rear ABS wheel speed sensor-Right rear wheel speed',\n",
    "                            'Latitude',\n",
    "                            'Longitude',\n",
    "                            'Elevation',\n",
    "                            'Right rear ABS wheel speed sensor-Right rear wheel speed',\n",
    "                            'Heart Rate'], inplace=True)\n",
    "\n",
    "rla_dataframe.dropna(subset=['Lateral acceleration', 'Longitudinal acceleration', 'Speed' , 'Steering angle', 'Rotation rate of steering angle','Timestamp'], inplace=True)\n",
    "rla_dataframe.info()\n",
    "rla_dataframe.to_csv('../../Data/Verified/SelfLabeled/'+output_file_name, index=False)"
   ],
   "id": "636b634500e7d6e1",
   "execution_count": 181,
   "outputs": []
  }
 ],
 "metadata": {
  "kernelspec": {
   "display_name": "Python 3",
   "language": "python",
   "name": "python3"
  },
  "language_info": {
   "codemirror_mode": {
    "name": "ipython",
    "version": 2
   },
   "file_extension": ".py",
   "mimetype": "text/x-python",
   "name": "python",
   "nbconvert_exporter": "python",
   "pygments_lexer": "ipython2",
   "version": "2.7.6"
  }
 },
 "nbformat": 4,
 "nbformat_minor": 5
}
