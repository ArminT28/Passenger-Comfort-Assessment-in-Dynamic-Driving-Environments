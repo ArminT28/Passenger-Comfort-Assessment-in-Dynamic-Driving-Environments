{
 "cells": [
  {
   "metadata": {
    "ExecuteTime": {
     "end_time": "2024-06-09T14:21:19.468387Z",
     "start_time": "2024-06-09T14:21:19.465079Z"
    }
   },
   "cell_type": "code",
   "source": [
    "import matplotlib.pyplot as plt\n",
    "import pandas as pd"
   ],
   "id": "718d2289b2fa284",
   "execution_count": 2,
   "outputs": []
  },
  {
   "cell_type": "code",
   "id": "initial_id",
   "metadata": {
    "collapsed": true,
    "ExecuteTime": {
     "end_time": "2024-06-09T14:23:05.362778Z",
     "start_time": "2024-06-09T14:23:05.194980Z"
    }
   },
   "source": [
    "file_name = \"....\"\n",
    "file_path = \"../../Data/SelfLabeled/\"\n",
    "\n",
    "df = pd.read_csv(file_path+file_name)\n",
    "\n",
    "if len(df)>0:\n",
    "    df['timestamp'] = pd.to_datetime(df['Timestamp'])\n",
    "    \n",
    "    color_map = {\n",
    "        'Excellent': 'green',\n",
    "        'Acceptable': 'yellow',\n",
    "        'So and So': 'orange',\n",
    "        'Uncomfortable': 'red',\n",
    "        'Not paying attention': 'purple',\n",
    "    }\n",
    "    \n",
    "    axis = df.plot(kind='scatter', x='Lateral acceleration', y='Longitudinal acceleration', color=df['Label'].map(color_map))\n",
    "    \n",
    "    lateral_minimum = abs(df['Lateral acceleration'].min())\n",
    "    lateral_maximum = abs(df['Lateral acceleration'].max())\n",
    "    longitudinal_minimum = abs(df['Longitudinal acceleration'].min())\n",
    "    longitudinal_maximum = abs(df['Longitudinal acceleration'].max())\n",
    "    \n",
    "    x_axis_margin = lateral_minimum if lateral_minimum > lateral_maximum else lateral_maximum\n",
    "    y_axis_margin = longitudinal_minimum if longitudinal_minimum > longitudinal_maximum else longitudinal_maximum\n",
    "    \n",
    "    axes_margin = x_axis_margin if x_axis_margin > y_axis_margin else y_axis_margin\n",
    "    \n",
    "    axis.set_xlim(-axes_margin - 0.25, axes_margin + 0.25)\n",
    "    axis.set_ylim(-axes_margin - 0.25, axes_margin + 0.25)\n",
    "    \n",
    "    \n",
    "    plt.grid(True)\n",
    "    plt.xlabel('Lateral Acceleration (m/s^2)')\n",
    "    plt.ylabel('Longitudinal Acceleration (m/s^2)')\n",
    "    plt.title('Passenger Labeled Comfortability Plot after human error removal')\n",
    "    plt.show()\n",
    "else:\n",
    "    print(\"No data to plot\")"
   ],
   "execution_count": 10,
   "outputs": []
  }
 ],
 "metadata": {
  "kernelspec": {
   "display_name": "Python 3",
   "language": "python",
   "name": "python3"
  },
  "language_info": {
   "codemirror_mode": {
    "name": "ipython",
    "version": 2
   },
   "file_extension": ".py",
   "mimetype": "text/x-python",
   "name": "python",
   "nbconvert_exporter": "python",
   "pygments_lexer": "ipython2",
   "version": "2.7.6"
  }
 },
 "nbformat": 4,
 "nbformat_minor": 5
}
