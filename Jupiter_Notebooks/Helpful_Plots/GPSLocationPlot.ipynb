{
 "cells": [
  {
   "metadata": {},
   "cell_type": "code",
   "execution_count": null,
   "source": [
    "import pandas as pd\n",
    "import plotly.express as px"
   ],
   "id": "fcee386876beb67",
   "outputs": []
  },
  {
   "cell_type": "code",
   "id": "initial_id",
   "metadata": {
    "collapsed": true,
    "ExecuteTime": {
     "end_time": "2024-06-09T14:31:02.006071Z",
     "start_time": "2024-06-09T14:31:01.721673Z"
    }
   },
   "source": "file_path = '....'",
   "execution_count": 2,
   "outputs": []
  },
  {
   "metadata": {
    "ExecuteTime": {
     "end_time": "2024-06-09T14:31:02.716485Z",
     "start_time": "2024-06-09T14:31:02.618363Z"
    }
   },
   "cell_type": "code",
   "source": [
    "df = pd.read_csv(file_path)\n",
    "df = df.dropna()\n",
    "df"
   ],
   "id": "2d55798392056d40",
   "execution_count": 3,
   "outputs": []
  },
  {
   "metadata": {
    "ExecuteTime": {
     "end_time": "2024-06-09T14:31:05.841570Z",
     "start_time": "2024-06-09T14:31:03.242022Z"
    }
   },
   "cell_type": "code",
   "source": [
    "color_scale = [(0, 'green'), (1,'red')]\n",
    "\n",
    "df['Lateral Acceleration'] = df['Lateral Acc. - Sensor (G200)']\n",
    "df['Longitudinal Acceleration'] = df['Long. Accel. - Sensor (G251)']\n",
    "df['Speed'] = df['Speed Sensor - Front Left (G47)']\n",
    "df['Steering Angle'] = df['Steering Angle - Sensor (G85)']\n",
    "df['Rotation Rate'] = df['Rotation Rate - (G202) Yaw Rate']\n",
    "\n",
    "fig = px.scatter_mapbox(df,\n",
    "                        lat=\"Latitude\",\n",
    "                        lon=\"Longitude\",\n",
    "                        hover_name=\"marker\",\n",
    "                        hover_data=[\"timestamp\",\n",
    "                                    \"Speed\",\n",
    "                                    \"Steering Angle\", \n",
    "                                    \"Lateral Acceleration\",\n",
    "                                    \"Longitudinal Acceleration\",\n",
    "                                    \"Heart Rate\",\n",
    "                                    \"ComfortabilityLabel\"],\n",
    "                        color=\"ComfortabilityLabel\",\n",
    "                        zoom=10,\n",
    "                        height=800,\n",
    "                        width=800)\n",
    "\n",
    "fig.update_layout(mapbox_style=\"open-street-map\")\n",
    "fig.update_layout(margin={\"r\":0,\"t\":0,\"l\":0,\"b\":0})\n",
    "fig.show()"
   ],
   "id": "7474318b4c89979d",
   "execution_count": 4,
   "outputs": []
  }
 ],
 "metadata": {
  "kernelspec": {
   "display_name": "Python 3",
   "language": "python",
   "name": "python3"
  },
  "language_info": {
   "codemirror_mode": {
    "name": "ipython",
    "version": 2
   },
   "file_extension": ".py",
   "mimetype": "text/x-python",
   "name": "python",
   "nbconvert_exporter": "python",
   "pygments_lexer": "ipython2",
   "version": "2.7.6"
  }
 },
 "nbformat": 4,
 "nbformat_minor": 5
}
