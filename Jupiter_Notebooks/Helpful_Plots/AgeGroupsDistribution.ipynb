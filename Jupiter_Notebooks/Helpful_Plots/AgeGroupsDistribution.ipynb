{
 "cells": [
  {
   "cell_type": "code",
   "id": "initial_id",
   "metadata": {
    "collapsed": true,
    "ExecuteTime": {
     "end_time": "2024-06-06T11:21:23.800943Z",
     "start_time": "2024-06-06T11:21:23.685136Z"
    }
   },
   "source": [
    "import matplotlib.pyplot as plt\n",
    "\n",
    "age_groups = ['<=21', '22-41', '42-61', '>=62']\n",
    "numbers = [5, 10, 4, 2]\n",
    "\n",
    "plt.figure(figsize=(10, 6))\n",
    "plt.bar(age_groups, numbers, color='skyblue')\n",
    "\n",
    "plt.title('Age Distribution Among Participants')\n",
    "plt.xlabel('Age Groups')\n",
    "plt.ylabel('Number of People')\n",
    "\n",
    "plt.show()"
   ],
   "execution_count": 4,
   "outputs": []
  },
  {
   "metadata": {},
   "cell_type": "code",
   "execution_count": null,
   "source": "",
   "id": "db63b51c53c46cf3",
   "outputs": []
  }
 ],
 "metadata": {
  "kernelspec": {
   "display_name": "Python 3",
   "language": "python",
   "name": "python3"
  },
  "language_info": {
   "codemirror_mode": {
    "name": "ipython",
    "version": 2
   },
   "file_extension": ".py",
   "mimetype": "text/x-python",
   "name": "python",
   "nbconvert_exporter": "python",
   "pygments_lexer": "ipython2",
   "version": "2.7.6"
  }
 },
 "nbformat": 4,
 "nbformat_minor": 5
}
