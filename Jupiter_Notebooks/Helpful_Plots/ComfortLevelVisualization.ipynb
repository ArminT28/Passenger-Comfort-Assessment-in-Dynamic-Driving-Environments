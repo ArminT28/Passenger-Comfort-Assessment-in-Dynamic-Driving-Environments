{
 "cells": [
  {
   "cell_type": "code",
   "id": "initial_id",
   "metadata": {
    "collapsed": true,
    "ExecuteTime": {
     "end_time": "2024-06-09T14:10:10.479119Z",
     "start_time": "2024-06-09T14:10:07.514236Z"
    }
   },
   "source": [
    "import pickle\n",
    "from keras.src.models.model import model_from_json\n",
    "from sklearn.preprocessing import LabelEncoder\n",
    "from matplotlib import pyplot as plt\n",
    "import numpy as np\n",
    "from matplotlib.colors import ListedColormap"
   ],
   "execution_count": 1,
   "outputs": []
  },
  {
   "metadata": {
    "ExecuteTime": {
     "end_time": "2024-06-09T14:14:11.878331Z",
     "start_time": "2024-06-09T14:14:11.874334Z"
    }
   },
   "cell_type": "code",
   "source": [
    "model_path_directory = '../../AIModels/BaselineModel/'\n",
    "step = 0.02\n",
    "lateral_min = -2.5\n",
    "lateral_max = 2.5\n",
    "longitudinal_min = -2.5\n",
    "longitudinal_max = 2.5\n",
    "\n",
    "custom_color_map = { \n",
    "    'Acceptable': 'yellow',\n",
    "    'Excellent': 'green',\n",
    "    'So and So': 'orange',\n",
    "    'Uncomfortable': 'red'\n",
    "}\n",
    "\n",
    "class_names = ['Acceptable','Excellent','So and So','Uncomfortable']\n",
    "\n",
    "custom_listed_color_map = ListedColormap([custom_color_map[label] for label in class_names])"
   ],
   "id": "2e0e45bde4886eb5",
   "execution_count": 21,
   "outputs": []
  },
  {
   "metadata": {
    "ExecuteTime": {
     "end_time": "2024-06-09T14:14:12.318235Z",
     "start_time": "2024-06-09T14:14:12.265751Z"
    }
   },
   "cell_type": "code",
   "source": [
    "with open(model_path_directory + 'DrivingComfortabilityPredictingModel.json', 'r') as json_file:\n",
    "    model_json = json_file.read()\n",
    "loaded_baseline_model = model_from_json(model_json)\n",
    "\n",
    "loaded_baseline_model.load_weights(model_path_directory + 'DrivingComfortabilityPredictingModel.weights.h5')\n",
    "\n",
    "loaded_baseline_model.compile(optimizer='adam', loss='sparse_categorical_crossentropy', metrics=['accuracy'])\n",
    "\n",
    "with open(model_path_directory + 'DrivingComfortabilityPredictingModelHistory.pkl', 'rb') as history_file:\n",
    "    history = pickle.load(history_file)"
   ],
   "id": "21a4dd7ca95fb355",
   "execution_count": 22,
   "outputs": []
  },
  {
   "metadata": {
    "ExecuteTime": {
     "end_time": "2024-06-09T14:14:12.440034Z",
     "start_time": "2024-06-09T14:14:12.427390Z"
    }
   },
   "cell_type": "code",
   "source": "loaded_baseline_model.summary()",
   "id": "8bdd7372c95415fd",
   "execution_count": 23,
   "outputs": []
  },
  {
   "metadata": {
    "ExecuteTime": {
     "end_time": "2024-06-09T14:14:12.593102Z",
     "start_time": "2024-06-09T14:14:12.589020Z"
    }
   },
   "cell_type": "code",
   "source": [
    "label_encoder = LabelEncoder()\n",
    "encoded_labels = label_encoder.fit_transform(['Acceptable','Excellent','So and So','Uncomfortable'])"
   ],
   "id": "afdca139d48923d1",
   "execution_count": 24,
   "outputs": []
  },
  {
   "metadata": {
    "ExecuteTime": {
     "end_time": "2024-06-09T14:14:12.775039Z",
     "start_time": "2024-06-09T14:14:12.770635Z"
    }
   },
   "cell_type": "code",
   "source": "lateral,longitudinal = np.meshgrid(np.arange(lateral_min, lateral_max, step), np.arange(longitudinal_min, longitudinal_max, step))",
   "id": "4161ed32ad022be9",
   "execution_count": 25,
   "outputs": []
  },
  {
   "metadata": {
    "ExecuteTime": {
     "end_time": "2024-06-09T14:14:15.173114Z",
     "start_time": "2024-06-09T14:14:12.954386Z"
    }
   },
   "cell_type": "code",
   "source": [
    "predictions = loaded_baseline_model.predict(np.c_[lateral.ravel(), longitudinal.ravel()])\n",
    "label_predictions = np.argmax(predictions, axis=1)\n",
    "\n",
    "label_predictions_mapped = label_encoder.inverse_transform(label_predictions)\n",
    "\n",
    "label_predictions_mapped_float = label_encoder.transform(label_predictions_mapped).astype(float)\n",
    "\n",
    "label_predictions_reshaped = label_predictions_mapped_float.reshape(lateral.shape)"
   ],
   "id": "a79275c18bea2b83",
   "execution_count": 26,
   "outputs": []
  },
  {
   "metadata": {
    "ExecuteTime": {
     "end_time": "2024-06-09T14:14:22.486190Z",
     "start_time": "2024-06-09T14:14:22.344907Z"
    }
   },
   "cell_type": "code",
   "source": [
    "fig, axis = plt.subplots()\n",
    "axis.set_xlim(lateral_min, lateral_max)\n",
    "axis.set_ylim(longitudinal_min, longitudinal_max)\n",
    "contour = axis.contourf(lateral, longitudinal, label_predictions_reshaped, cmap=custom_listed_color_map, alpha=0.8)\n",
    "\n",
    "plt.grid(True)\n",
    "plt.xlabel('Lateral acceleration')\n",
    "plt.ylabel('Longitudinal acceleration')\n",
    "plt.title(f'Comfort-Levels predicted by model')\n",
    "plt.show()"
   ],
   "id": "5feef39cad580304",
   "execution_count": 28,
   "outputs": []
  }
 ],
 "metadata": {
  "kernelspec": {
   "display_name": "Python 3",
   "language": "python",
   "name": "python3"
  },
  "language_info": {
   "codemirror_mode": {
    "name": "ipython",
    "version": 2
   },
   "file_extension": ".py",
   "mimetype": "text/x-python",
   "name": "python",
   "nbconvert_exporter": "python",
   "pygments_lexer": "ipython2",
   "version": "2.7.6"
  }
 },
 "nbformat": 4,
 "nbformat_minor": 5
}
